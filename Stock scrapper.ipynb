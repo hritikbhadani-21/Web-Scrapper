{
 "cells": [
  {
   "cell_type": "code",
   "execution_count": 1,
   "id": "eb43968f-d066-47cb-91c3-c6f3ee2cb508",
   "metadata": {},
   "outputs": [],
   "source": [
    "import yfinance as yf\n",
    "import pandas as pd\n"
   ]
  },
  {
   "cell_type": "code",
   "execution_count": 2,
   "id": "1a713c35-a0f5-48e9-9630-cde8cf8c7c80",
   "metadata": {},
   "outputs": [],
   "source": [
    "def get_stock_data(stock_ticker, start_date=\"2024-01-01\", end_date=\"2024-10-31\"):\n",
    "    # Download historical stock data\n",
    "    data = yf.download(stock_ticker, start=start_date, end=end_date)\n",
    "\n",
    "    # Check if data is fetched successfully\n",
    "    if data.empty:\n",
    "        print(f\"No data found for {stock_ticker}. Please check the ticker and try again.\")\n",
    "        return None\n",
    "    \n",
    "    # Rename columns to match requested fields\n",
    "    data.rename(columns={\n",
    "        'Adj Close': 'Adj Close', 'Open': 'Open', 'High': 'High',\n",
    "        'Low': 'Low', 'Close': 'Close', 'Volume': 'Volume'\n",
    "    }, inplace=True)\n",
    "\n",
    "    # Reset index to have Date as a column\n",
    "    data.reset_index(inplace=True)\n",
    "    return data\n"
   ]
  },
  {
   "cell_type": "code",
   "execution_count": 3,
   "id": "70f04679-fc82-4fdb-93fd-9159529f87d6",
   "metadata": {},
   "outputs": [
    {
     "name": "stdin",
     "output_type": "stream",
     "text": [
      "Enter the stock ticker (e.g.,  for Reliance on NSE):  RPPINFRA.NS\n"
     ]
    }
   ],
   "source": [
    "# Take stock ticker input\n",
    "stock_name = input(\"Enter the stock ticker (e.g.,  for Reliance on NSE): \")\n"
   ]
  },
  {
   "cell_type": "code",
   "execution_count": 4,
   "id": "ac76e97e-8d3f-40ef-a4b0-ee01494552bc",
   "metadata": {},
   "outputs": [
    {
     "name": "stderr",
     "output_type": "stream",
     "text": [
      "[*********************100%***********************]  1 of 1 completed\n"
     ]
    },
    {
     "data": {
      "text/html": [
       "<div>\n",
       "<style scoped>\n",
       "    .dataframe tbody tr th:only-of-type {\n",
       "        vertical-align: middle;\n",
       "    }\n",
       "\n",
       "    .dataframe tbody tr th {\n",
       "        vertical-align: top;\n",
       "    }\n",
       "\n",
       "    .dataframe thead tr th {\n",
       "        text-align: left;\n",
       "    }\n",
       "</style>\n",
       "<table border=\"1\" class=\"dataframe\">\n",
       "  <thead>\n",
       "    <tr>\n",
       "      <th>Price</th>\n",
       "      <th>Date</th>\n",
       "      <th>Adj Close</th>\n",
       "      <th>Close</th>\n",
       "      <th>High</th>\n",
       "      <th>Low</th>\n",
       "      <th>Open</th>\n",
       "      <th>Volume</th>\n",
       "    </tr>\n",
       "    <tr>\n",
       "      <th>Ticker</th>\n",
       "      <th></th>\n",
       "      <th>RPPINFRA.NS</th>\n",
       "      <th>RPPINFRA.NS</th>\n",
       "      <th>RPPINFRA.NS</th>\n",
       "      <th>RPPINFRA.NS</th>\n",
       "      <th>RPPINFRA.NS</th>\n",
       "      <th>RPPINFRA.NS</th>\n",
       "    </tr>\n",
       "  </thead>\n",
       "  <tbody>\n",
       "    <tr>\n",
       "      <th>0</th>\n",
       "      <td>2024-01-01 00:00:00+00:00</td>\n",
       "      <td>121.949997</td>\n",
       "      <td>121.949997</td>\n",
       "      <td>121.949997</td>\n",
       "      <td>117.500000</td>\n",
       "      <td>118.900002</td>\n",
       "      <td>306028</td>\n",
       "    </tr>\n",
       "    <tr>\n",
       "      <th>1</th>\n",
       "      <td>2024-01-02 00:00:00+00:00</td>\n",
       "      <td>128.000000</td>\n",
       "      <td>128.000000</td>\n",
       "      <td>128.000000</td>\n",
       "      <td>128.000000</td>\n",
       "      <td>128.000000</td>\n",
       "      <td>130125</td>\n",
       "    </tr>\n",
       "    <tr>\n",
       "      <th>2</th>\n",
       "      <td>2024-01-03 00:00:00+00:00</td>\n",
       "      <td>134.399994</td>\n",
       "      <td>134.399994</td>\n",
       "      <td>134.399994</td>\n",
       "      <td>134.399994</td>\n",
       "      <td>134.399994</td>\n",
       "      <td>72849</td>\n",
       "    </tr>\n",
       "    <tr>\n",
       "      <th>3</th>\n",
       "      <td>2024-01-04 00:00:00+00:00</td>\n",
       "      <td>132.100006</td>\n",
       "      <td>132.100006</td>\n",
       "      <td>135.149994</td>\n",
       "      <td>131.750000</td>\n",
       "      <td>132.100006</td>\n",
       "      <td>198213</td>\n",
       "    </tr>\n",
       "    <tr>\n",
       "      <th>4</th>\n",
       "      <td>2024-01-05 00:00:00+00:00</td>\n",
       "      <td>129.449997</td>\n",
       "      <td>129.449997</td>\n",
       "      <td>129.500000</td>\n",
       "      <td>129.449997</td>\n",
       "      <td>129.449997</td>\n",
       "      <td>164016</td>\n",
       "    </tr>\n",
       "  </tbody>\n",
       "</table>\n",
       "</div>"
      ],
      "text/plain": [
       "Price                       Date   Adj Close       Close        High  \\\n",
       "Ticker                           RPPINFRA.NS RPPINFRA.NS RPPINFRA.NS   \n",
       "0      2024-01-01 00:00:00+00:00  121.949997  121.949997  121.949997   \n",
       "1      2024-01-02 00:00:00+00:00  128.000000  128.000000  128.000000   \n",
       "2      2024-01-03 00:00:00+00:00  134.399994  134.399994  134.399994   \n",
       "3      2024-01-04 00:00:00+00:00  132.100006  132.100006  135.149994   \n",
       "4      2024-01-05 00:00:00+00:00  129.449997  129.449997  129.500000   \n",
       "\n",
       "Price          Low        Open      Volume  \n",
       "Ticker RPPINFRA.NS RPPINFRA.NS RPPINFRA.NS  \n",
       "0       117.500000  118.900002      306028  \n",
       "1       128.000000  128.000000      130125  \n",
       "2       134.399994  134.399994       72849  \n",
       "3       131.750000  132.100006      198213  \n",
       "4       129.449997  129.449997      164016  "
      ]
     },
     "metadata": {},
     "output_type": "display_data"
    },
    {
     "name": "stdout",
     "output_type": "stream",
     "text": [
      "\n",
      "Data for RPPINFRA.NS has been fetched successfully.\n"
     ]
    }
   ],
   "source": [
    "# Get data\n",
    "stock_data = get_stock_data(stock_name)\n",
    "\n",
    "# Display data if available\n",
    "if stock_data is not None:\n",
    "    display(stock_data.head())  # Display first few rows in Jupyter Notebook format\n",
    "    print(f\"\\nData for {stock_name} has been fetched successfully.\")\n"
   ]
  },
  {
   "cell_type": "code",
   "execution_count": 5,
   "id": "b3d926a7-f229-4db7-bad0-c29b62920a80",
   "metadata": {},
   "outputs": [
    {
     "name": "stdout",
     "output_type": "stream",
     "text": [
      "\n",
      "Data for RPPINFRA.NS has been saved to RPPINFRA.NS.csv successfully.\n"
     ]
    }
   ],
   "source": [
    "# Save data to CSV file if data is available\n",
    "if stock_data is not None:\n",
    "    file_name = f\"{stock_name}.csv\"\n",
    "    stock_data.to_csv(file_name, index=False)\n",
    "    print(f\"\\nData for {stock_name} has been saved to {file_name} successfully.\")\n"
   ]
  },
  {
   "cell_type": "code",
   "execution_count": null,
   "id": "4361bace-e50f-4e08-b380-6eea8e902977",
   "metadata": {},
   "outputs": [],
   "source": []
  }
 ],
 "metadata": {
  "kernelspec": {
   "display_name": "Python 3 (ipykernel)",
   "language": "python",
   "name": "python3"
  },
  "language_info": {
   "codemirror_mode": {
    "name": "ipython",
    "version": 3
   },
   "file_extension": ".py",
   "mimetype": "text/x-python",
   "name": "python",
   "nbconvert_exporter": "python",
   "pygments_lexer": "ipython3",
   "version": "3.12.4"
  }
 },
 "nbformat": 4,
 "nbformat_minor": 5
}
